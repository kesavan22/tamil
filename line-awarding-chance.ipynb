{
 "cells": [
  {
   "cell_type": "code",
   "execution_count": 42,
   "metadata": {},
   "outputs": [
    {
     "name": "stdout",
     "output_type": "stream",
     "text": [
      "{'emp1': [1], 'emp2': [0, 1], 'emp3': [1, 0], 'emp4': [], 'emp5': [0, 0, 0, 1]}\n"
     ]
    }
   ],
   "source": [
    "line_num = [100,101,102,103,104,105,106,107]\n",
    "\n",
    "employee = ['emp1','emp2','emp3','emp4','emp5']\n",
    "\n",
    "assigned_lines = []\n",
    "\n",
    "emp_pref_class= {\n",
    "    'emp1': [0],\n",
    "    'emp2': [0,0],\n",
    "    'emp3': [0,0],\n",
    "    'emp4': [],\n",
    "    'emp5': [0,0,0,0],\n",
    "}\n",
    "\n",
    "emp_pref_dict = {\n",
    "    'emp1': [102],\n",
    "    'emp2': [102,105],\n",
    "    'emp3': [107,106],\n",
    "    'emp4':[],\n",
    "    'emp5':[102,105,107,104]\n",
    "}\n",
    "\n",
    "for emp,pref in emp_pref_dict.items():\n",
    "    i = -1\n",
    "    for line in pref:\n",
    "        i+=1\n",
    "        if(line not in assigned_lines):\n",
    "            emp_pref_class[emp][i] = 1\n",
    "            assigned_lines.append(line)\n",
    "            break;\n",
    "        \n",
    "print(emp_pref_class)"
   ]
  },
  {
   "cell_type": "code",
   "execution_count": null,
   "metadata": {},
   "outputs": [],
   "source": []
  }
 ],
 "metadata": {
  "kernelspec": {
   "display_name": "Python 3",
   "language": "python",
   "name": "python3"
  },
  "language_info": {
   "codemirror_mode": {
    "name": "ipython",
    "version": 3
   },
   "file_extension": ".py",
   "mimetype": "text/x-python",
   "name": "python",
   "nbconvert_exporter": "python",
   "pygments_lexer": "ipython3",
   "version": "3.11.4"
  }
 },
 "nbformat": 4,
 "nbformat_minor": 2
}
