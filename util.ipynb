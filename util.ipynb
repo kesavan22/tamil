{
 "cells": [
  {
   "cell_type": "code",
   "execution_count": 24,
   "metadata": {},
   "outputs": [],
   "source": [
    "from PIL import Image\n",
    "import shutil\n",
    "import numpy as np\n",
    "import os"
   ]
  },
  {
   "cell_type": "code",
   "execution_count": null,
   "metadata": {},
   "outputs": [],
   "source": [
    "\n",
    "\n",
    "source_path = 'C:/Users/Kesavan Ramalingam/Documents/Datasets/Tamil Char Recognition/raw/90-10-split/train-test-classwise/train'\n",
    "destination_path = 'C:/Users/Kesavan Ramalingam/Documents/Datasets/Tamil Char Recognition/data'\n",
    "\n",
    "folders_to_copy = schema_data['folder'].values\n",
    "\n",
    "for folder_name in folders_to_copy:\n",
    "    source_folder = os.path.join(source_path, folder_name)\n",
    "    destination_folder = os.path.join(destination_path, folder_name)\n",
    "    \n",
    "    try:\n",
    "        shutil.copytree(source_folder, destination_folder)\n",
    "        print(f\"Successfully copied {folder_name} to {destination_folder}\")\n",
    "    except OSError as e:\n",
    "        print(f\"Error copying {folder_name}: {str(e)}\")\n",
    "  \n"
   ]
  },
  {
   "cell_type": "code",
   "execution_count": 52,
   "metadata": {},
   "outputs": [],
   "source": [
    "image3 = Image.open('../../../Desktop/1.bmp')\n",
    "image2 = Image.open('../../../Desktop/2.bmp')\n",
    "image1 = Image.open('../../../Desktop/3.bmp')\n",
    "\n",
    "merged_width = image1.width + image2.width + image3.width\n",
    "merged_height = image1.height  # Assuming all three images have the same height\n",
    "\n",
    "merged_image = Image.new('1', (merged_width, merged_height))\n",
    "\n",
    "merged_image.paste(image1, (0, 0))\n",
    "merged_image.paste(image2, (image1.width, 0))\n",
    "merged_image.paste(image3, (image1.width + image2.width, 0))\n",
    "\n",
    "merged_image.save('merged_image.bmp')\n",
    "\n"
   ]
  },
  {
   "cell_type": "code",
   "execution_count": 22,
   "metadata": {},
   "outputs": [],
   "source": [
    "image2 = Image.open('../../../Desktop/1.bmp')\n",
    "\n",
    "# Open the second bitmap image\n",
    "image1 = Image.open('../../../Desktop/2.bmp')\n",
    "\n",
    "new_height = 300\n",
    "image1 = image1.resize((int(image1.width * (new_height / image1.height)), new_height))\n",
    "image2 = image2.resize((int(image2.width * (new_height / image2.height)), new_height))\n",
    "\n",
    "merged_image = Image.new('1', (image1.width + image2.width, image1.height))\n",
    "\n",
    "merged_image.paste(image1, (0, 0))\n",
    "merged_image.paste(image2, (image1.width, 0))\n",
    "\n",
    "merged_image.save('merged_image.bmp')\n",
    "\n"
   ]
  },
  {
   "cell_type": "code",
   "execution_count": 53,
   "metadata": {},
   "outputs": [],
   "source": [
    "input_image = Image.open('./merged_image.bmp')\n",
    "\n",
    "# Define the new width and height\n",
    "new_width = 64  # Set to the desired width in pixels\n",
    "new_height = 64  # Set to the desired height in pixels\n",
    "\n",
    "# Resize the image\n",
    "resized_image = input_image.resize((new_width, new_height))\n",
    "\n",
    "resized_image.save('resized_image.bmp')\n"
   ]
  },
  {
   "cell_type": "code",
   "execution_count": null,
   "metadata": {},
   "outputs": [],
   "source": [
    "\n",
    "merged_width = image1.width + image2.width + image3.width\n",
    "merged_height = image1.height  # Assuming all three images have the same height\n",
    "\n",
    "merged_image = Image.new('1', (merged_width, merged_height))\n",
    "\n",
    "merged_image.paste(image1, (0, 0))\n",
    "merged_image.paste(image2, (image1.width, 0))\n",
    "merged_image.paste(image3, (image1.width + image2.width, 0))\n",
    "\n",
    "merged_image.save('merged_image.bmp')"
   ]
  },
  {
   "cell_type": "code",
   "execution_count": 59,
   "metadata": {},
   "outputs": [],
   "source": [
    "left_file_path = 'C:/Users/Kesavan Ramalingam/Documents/Datasets/Tamil Char Recognition/raw/merge/002'\n",
    "middle_file_path = 'C:/Users/Kesavan Ramalingam/Documents/Datasets/Tamil Char Recognition/raw/merge/001'\n",
    "right_file_path = 'C:/Users/Kesavan Ramalingam/Documents/Datasets/Tamil Char Recognition/raw/merge/000'\n",
    "\n",
    "for i in range(525):\n",
    "    image1 = Image.open(left_file_path+'/'+str(i+1)+'.bmp')\n",
    "    image2 = Image.open(middle_file_path+'/'+str(i+1)+'.bmp')\n",
    "    image3 = Image.open(right_file_path+'/'+str(i+1)+'.bmp')\n",
    "    \n",
    "    merged_width = image1.width + image2.width + image3.width\n",
    "    merged_height = image1.height  # Assuming all three images have the same height\n",
    "\n",
    "    merged_image = Image.new('1', (merged_width, merged_height))\n",
    "\n",
    "    merged_image.paste(image1, (0, 0))\n",
    "    merged_image.paste(image2, (image1.width, 0))\n",
    "    merged_image.paste(image3, (image1.width + image2.width, 0))\n",
    "\n",
    "    merged_image.save('C:/Users/Kesavan Ramalingam/Documents/Datasets/Tamil Char Recognition/raw/merge/result/'+str(i+1)+'.bmp')    \n",
    "    "
   ]
  },
  {
   "cell_type": "code",
   "execution_count": 47,
   "metadata": {},
   "outputs": [],
   "source": [
    "left_file_path = 'C:/Users/Kesavan Ramalingam/Documents/Datasets/Tamil Char Recognition/raw/merge/002'\n",
    "\n",
    "right_file_path = 'C:/Users/Kesavan Ramalingam/Documents/Datasets/Tamil Char Recognition/raw/merge/001'\n",
    "\n",
    "for i in range(525):\n",
    "    image1 = Image.open(left_file_path+'/'+str(i+1)+'.bmp')\n",
    "    image2 = Image.open(right_file_path+'/'+str(i+1)+'.bmp')\n",
    "    \n",
    "    new_height = 300\n",
    "    \n",
    "    image1 = image1.resize((int(image1.width * (new_height / image1.height)), new_height))\n",
    "    image2 = image2.resize((int(image2.width * (new_height / image2.height)), new_height))\n",
    "\n",
    "    merged_image = Image.new('1', (image1.width + image2.width, image1.height))\n",
    "\n",
    "    merged_image.paste(image1, (0, 0))\n",
    "    merged_image.paste(image2, (image1.width, 0))\n",
    "\n",
    "    merged_image.save('C:/Users/Kesavan Ramalingam/Documents/Datasets/Tamil Char Recognition/raw/merge/result/'+str(i+1)+'.bmp')    \n",
    "    "
   ]
  },
  {
   "cell_type": "markdown",
   "metadata": {},
   "source": []
  },
  {
   "cell_type": "markdown",
   "metadata": {},
   "source": []
  },
  {
   "cell_type": "markdown",
   "metadata": {},
   "source": []
  },
  {
   "cell_type": "code",
   "execution_count": 437,
   "metadata": {},
   "outputs": [],
   "source": [
    "folder_path  = 'C:/Users/Kesavan Ramalingam/Documents/Datasets/Tamil Char Recognition/raw/merge/001'\n",
    "file_list = os.listdir(folder_path)\n",
    "for filename in file_list:\n",
    "    file_path = os.path.join(folder_path, filename)\n",
    "    try:\n",
    "        if os.path.isfile(file_path):\n",
    "            os.remove(file_path)\n",
    "            # print(f\"Deleted: {file_path}\")\n",
    "    except Exception as e:\n",
    "        print(f\"Error deleting {file_path}: {e}\")"
   ]
  },
  {
   "cell_type": "code",
   "execution_count": 438,
   "metadata": {},
   "outputs": [],
   "source": [
    "source_folder = 'C:/Users/Kesavan Ramalingam/Documents/Datasets/Tamil Char Recognition/raw/90-10-split/train-test-classwise/train/117'\n",
    "destination_folder = 'C:/Users/Kesavan Ramalingam/Documents/Datasets/Tamil Char Recognition/raw/merge/001'\n",
    "\n",
    "\n",
    "# Ensure the destination folder exists; create it if it doesn't\n",
    "if not os.path.exists(destination_folder):\n",
    "    os.makedirs(destination_folder)\n",
    "\n",
    "# Get a list of all files in the source folder\n",
    "file_list = os.listdir(source_folder)\n",
    "\n",
    "# Iterate through the files and copy them to the destination folder\n",
    "for filename in file_list:\n",
    "    source_file = os.path.join(source_folder, filename)\n",
    "    destination_file = os.path.join(destination_folder, filename)\n",
    "\n",
    "    try:\n",
    "        if os.path.isfile(source_file):\n",
    "            shutil.copy(source_file, destination_file)\n",
    "            # print(f\"Successfully copied {source_file} to {destination_file}\")\n",
    "    except Exception as e:\n",
    "        print(f\"Error copying {source_file}: {e}\")\n"
   ]
  },
  {
   "cell_type": "code",
   "execution_count": 439,
   "metadata": {},
   "outputs": [],
   "source": [
    "current_file_path = 'C:/Users/Kesavan Ramalingam/Documents/Datasets/Tamil Char Recognition/raw/merge/001'\n",
    "\n",
    "k=1\n",
    "for i in os.listdir(current_file_path):\n",
    "    try:\n",
    "        os.rename(current_file_path+'/'+str(i), current_file_path+'/'+str(k)+'.bmp')\n",
    "        k+=1\n",
    "        # print(\"File Renamed\")\n",
    "    except OSError as e:\n",
    "        print(f\"Error renaming the file: {str(e)}\")"
   ]
  },
  {
   "cell_type": "code",
   "execution_count": 440,
   "metadata": {},
   "outputs": [],
   "source": [
    "left_file_path = 'C:/Users/Kesavan Ramalingam/Documents/Datasets/Tamil Char Recognition/raw/merge/002'\n",
    "middle_file_path = 'C:/Users/Kesavan Ramalingam/Documents/Datasets/Tamil Char Recognition/raw/merge/001'\n",
    "right_file_path = 'C:/Users/Kesavan Ramalingam/Documents/Datasets/Tamil Char Recognition/raw/merge/000'\n",
    "\n",
    "for i in range(525):\n",
    "    image1 = Image.open(left_file_path+'/'+str(i+1)+'.bmp')\n",
    "    image2 = Image.open(middle_file_path+'/'+str(i+1)+'.bmp')\n",
    "    image3 = Image.open(right_file_path+'/'+str(i+1)+'.bmp')\n",
    "    \n",
    "    merged_width = image1.width + image2.width + image3.width\n",
    "    merged_height = image1.height  # Assuming all three images have the same height\n",
    "\n",
    "    merged_image = Image.new('1', (merged_width, merged_height))\n",
    "\n",
    "    merged_image.paste(image1, (0, 0))\n",
    "    merged_image.paste(image2, (image1.width, 0))\n",
    "    merged_image.paste(image3, (image1.width + image2.width, 0))\n",
    "\n",
    "    merged_image.save('C:/Users/Kesavan Ramalingam/Documents/Datasets/Tamil Char Recognition/raw/raw merged/5/18/'+str(i+1)+'.bmp')        "
   ]
  },
  {
   "cell_type": "markdown",
   "metadata": {},
   "source": []
  },
  {
   "cell_type": "markdown",
   "metadata": {},
   "source": [
    "# right_file_path= 'C:/Users/Kesavan Ramalingam/Documents/Datasets/Tamil Char Recognition/raw/merge/001'\n",
    "\n",
    "# left_file_path = 'C:/Users/Kesavan Ramalingam/Documents/Datasets/Tamil Char Recognition/raw/merge/000'\n",
    "\n",
    "# for i in range(525):\n",
    "#     image1 = Image.open(left_file_path+'/'+str(i+1)+'.bmp')\n",
    "#     image2 = Image.open(right_file_path+'/'+str(i+1)+'.bmp')\n",
    "    \n",
    "#     new_height = 300\n",
    "    \n",
    "#     image1 = image1.resize((int(image1.width * (new_height / image1.height)), new_height))\n",
    "#     image2 = image2.resize((int(image2.width * (new_height / image2.height)), new_height))\n",
    "\n",
    "#     merged_image = Image.new('1', (image1.width + image2.width, image1.height))\n",
    "\n",
    "#     merged_image.paste(image1, (0, 0))\n",
    "#     merged_image.paste(image2, (image1.width, 0))\n",
    "\n",
    "#     merged_image.save('C:/Users/Kesavan Ramalingam/Documents/Datasets/Tamil Char Recognition/raw/raw merged/4/18/'+str(i+1)+'.bmp')   "
   ]
  },
  {
   "cell_type": "code",
   "execution_count": 81,
   "metadata": {},
   "outputs": [],
   "source": [
    "for i in range(2,19):\n",
    "    try:\n",
    "        folder_path = 'C:/Users/Kesavan Ramalingam/Documents/Datasets/Tamil Char Recognition/raw/raw merged/7'\n",
    "        os.mkdir(folder_path+'/'+str(i))\n",
    "    except OSError as e:\n",
    "        print(f\"Error creating folder: {str(e)}\")"
   ]
  },
  {
   "cell_type": "code",
   "execution_count": null,
   "metadata": {},
   "outputs": [],
   "source": []
  }
 ],
 "metadata": {
  "kernelspec": {
   "display_name": "Python 3",
   "language": "python",
   "name": "python3"
  },
  "language_info": {
   "codemirror_mode": {
    "name": "ipython",
    "version": 3
   },
   "file_extension": ".py",
   "mimetype": "text/x-python",
   "name": "python",
   "nbconvert_exporter": "python",
   "pygments_lexer": "ipython3",
   "version": "3.11.4"
  }
 },
 "nbformat": 4,
 "nbformat_minor": 2
}
