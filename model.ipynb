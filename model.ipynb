{
 "cells": [
  {
   "cell_type": "code",
   "execution_count": 18,
   "metadata": {},
   "outputs": [],
   "source": [
    "import pandas as pd\n",
    "import numpy as np\n",
    "import os\n",
    "from PIL import Image\n",
    "import matplotlib \n",
    "from matplotlib import pyplot as plt\n",
    "from sklearn.model_selection import train_test_split\n",
    "from tensorflow.keras.layers import Dense,Flatten\n",
    "from tensorflow.keras.activations import relu,linear,softmax\n",
    "from tensorflow.keras.models import Sequential\n",
    "import tensorflow as tf\n",
    "from sklearn.metrics import accuracy_score"
   ]
  },
  {
   "cell_type": "code",
   "execution_count": 2,
   "metadata": {},
   "outputs": [],
   "source": [
    "schema_data = pd.read_csv('../../Datasets/Tamil Char Recognition/schema.csv',dtype=object)"
   ]
  },
  {
   "cell_type": "code",
   "execution_count": 3,
   "metadata": {},
   "outputs": [
    {
     "data": {
      "text/html": [
       "<div>\n",
       "<style scoped>\n",
       "    .dataframe tbody tr th:only-of-type {\n",
       "        vertical-align: middle;\n",
       "    }\n",
       "\n",
       "    .dataframe tbody tr th {\n",
       "        vertical-align: top;\n",
       "    }\n",
       "\n",
       "    .dataframe thead th {\n",
       "        text-align: right;\n",
       "    }\n",
       "</style>\n",
       "<table border=\"1\" class=\"dataframe\">\n",
       "  <thead>\n",
       "    <tr style=\"text-align: right;\">\n",
       "      <th></th>\n",
       "      <th>letter</th>\n",
       "      <th>folder</th>\n",
       "      <th>class</th>\n",
       "    </tr>\n",
       "  </thead>\n",
       "  <tbody>\n",
       "    <tr>\n",
       "      <th>0</th>\n",
       "      <td>அ</td>\n",
       "      <td>001</td>\n",
       "      <td>0</td>\n",
       "    </tr>\n",
       "    <tr>\n",
       "      <th>1</th>\n",
       "      <td>ஆ</td>\n",
       "      <td>002</td>\n",
       "      <td>1</td>\n",
       "    </tr>\n",
       "    <tr>\n",
       "      <th>2</th>\n",
       "      <td>இ</td>\n",
       "      <td>003</td>\n",
       "      <td>2</td>\n",
       "    </tr>\n",
       "    <tr>\n",
       "      <th>3</th>\n",
       "      <td>ஈ</td>\n",
       "      <td>004</td>\n",
       "      <td>3</td>\n",
       "    </tr>\n",
       "    <tr>\n",
       "      <th>4</th>\n",
       "      <td>உ</td>\n",
       "      <td>005</td>\n",
       "      <td>4</td>\n",
       "    </tr>\n",
       "    <tr>\n",
       "      <th>5</th>\n",
       "      <td>ஊ</td>\n",
       "      <td>006</td>\n",
       "      <td>5</td>\n",
       "    </tr>\n",
       "    <tr>\n",
       "      <th>6</th>\n",
       "      <td>எ</td>\n",
       "      <td>007</td>\n",
       "      <td>6</td>\n",
       "    </tr>\n",
       "    <tr>\n",
       "      <th>7</th>\n",
       "      <td>ஏ</td>\n",
       "      <td>008</td>\n",
       "      <td>7</td>\n",
       "    </tr>\n",
       "    <tr>\n",
       "      <th>8</th>\n",
       "      <td>ஐ</td>\n",
       "      <td>009</td>\n",
       "      <td>8</td>\n",
       "    </tr>\n",
       "    <tr>\n",
       "      <th>9</th>\n",
       "      <td>ஒ</td>\n",
       "      <td>010</td>\n",
       "      <td>9</td>\n",
       "    </tr>\n",
       "    <tr>\n",
       "      <th>10</th>\n",
       "      <td>ஓ</td>\n",
       "      <td>011</td>\n",
       "      <td>10</td>\n",
       "    </tr>\n",
       "    <tr>\n",
       "      <th>11</th>\n",
       "      <td>ஔ</td>\n",
       "      <td>012</td>\n",
       "      <td>11</td>\n",
       "    </tr>\n",
       "    <tr>\n",
       "      <th>12</th>\n",
       "      <td>ஃ</td>\n",
       "      <td>013</td>\n",
       "      <td>12</td>\n",
       "    </tr>\n",
       "  </tbody>\n",
       "</table>\n",
       "</div>"
      ],
      "text/plain": [
       "   letter folder class\n",
       "0       அ    001     0\n",
       "1       ஆ    002     1\n",
       "2       இ    003     2\n",
       "3       ஈ    004     3\n",
       "4       உ    005     4\n",
       "5       ஊ    006     5\n",
       "6       எ    007     6\n",
       "7       ஏ    008     7\n",
       "8       ஐ    009     8\n",
       "9       ஒ    010     9\n",
       "10      ஓ    011    10\n",
       "11      ஔ    012    11\n",
       "12      ஃ    013    12"
      ]
     },
     "execution_count": 3,
     "metadata": {},
     "output_type": "execute_result"
    }
   ],
   "source": [
    "schema_data"
   ]
  },
  {
   "cell_type": "code",
   "execution_count": 4,
   "metadata": {},
   "outputs": [],
   "source": [
    "dataset_base_path = \"../../Datasets/Tamil Char Recognition/data\"\n",
    "all_folders = os.listdir(dataset_base_path)"
   ]
  },
  {
   "cell_type": "code",
   "execution_count": 5,
   "metadata": {},
   "outputs": [],
   "source": [
    "train_set = []\n",
    "test_set = []\n",
    "validation_set = []"
   ]
  },
  {
   "cell_type": "code",
   "execution_count": 6,
   "metadata": {},
   "outputs": [
    {
     "name": "stderr",
     "output_type": "stream",
     "text": [
      "C:\\Users\\Kesavan Ramalingam\\AppData\\Local\\Temp\\ipykernel_9000\\3060580998.py:9: FutureWarning: Calling float on a single element Series is deprecated and will raise a TypeError in the future. Use float(ser.iloc[0]) instead\n",
      "  pixel_values = np.append(pixel_values,np.float64(schema_data[schema_data['folder'] == folder]['class'])).reshape(1,785)\n"
     ]
    }
   ],
   "source": [
    "for folder in all_folders:\n",
    "    pixel_data = []\n",
    "    for image in os.listdir(dataset_base_path+'/'+folder):\n",
    "        resized_image = Image.open(dataset_base_path+'/'+folder+'/'+image).resize((28,28))\n",
    "        resized_image = resized_image.convert(\"L\")\n",
    "        pixel_values = np.array(resized_image)\n",
    "        pixel_values = pixel_values.reshape(1,784)\n",
    "        pixel_values = pixel_values / 255.0\n",
    "        pixel_values = np.append(pixel_values,np.float64(schema_data[schema_data['folder'] == folder]['class'])).reshape(1,785)\n",
    "        pixel_data.append(pixel_values)\n",
    "    result = np.vstack(pixel_data)\n",
    "    temp_train,temp_=train_test_split(result,test_size=0.40, random_state=1)\n",
    "    temp_test,temp_valid = train_test_split(temp_,test_size=0.50, random_state=1)   \n",
    "    train_set.append(temp_train)\n",
    "    test_set.append(temp_test)\n",
    "    validation_set.append(temp_valid)"
   ]
  },
  {
   "cell_type": "code",
   "execution_count": 7,
   "metadata": {},
   "outputs": [],
   "source": [
    "train_set = np.vstack(train_set)\n",
    "test_set = np.vstack(test_set)\n",
    "validation_set = np.vstack(validation_set)"
   ]
  },
  {
   "cell_type": "code",
   "execution_count": 8,
   "metadata": {},
   "outputs": [
    {
     "name": "stdout",
     "output_type": "stream",
     "text": [
      "(4095, 785)\n",
      "(1365, 785)\n",
      "(1365, 785)\n"
     ]
    }
   ],
   "source": [
    "print(train_set.shape)\n",
    "print(test_set.shape)\n",
    "print(validation_set.shape)"
   ]
  },
  {
   "cell_type": "code",
   "execution_count": 9,
   "metadata": {},
   "outputs": [],
   "source": [
    "x_train = train_set[:,:-1]\n",
    "y_train = train_set[:,-1]\n",
    "x_test = test_set[:,:-1]\n",
    "y_test = test_set[:,-1]\n",
    "x_valid = validation_set[:,:-1]\n",
    "y_valid = validation_set[:,-1]"
   ]
  },
  {
   "cell_type": "code",
   "execution_count": 17,
   "metadata": {},
   "outputs": [],
   "source": [
    "y_train = y_train.astype(np.int64)\n",
    "y_test = y_test.astype(np.int64)\n",
    "y_valid = y_valid.astype(np.int64)"
   ]
  },
  {
   "cell_type": "code",
   "execution_count": 11,
   "metadata": {},
   "outputs": [
    {
     "data": {
      "text/plain": [
       "(4095,)"
      ]
     },
     "execution_count": 11,
     "metadata": {},
     "output_type": "execute_result"
    }
   ],
   "source": [
    "y_train.shape"
   ]
  },
  {
   "cell_type": "code",
   "execution_count": 12,
   "metadata": {},
   "outputs": [
    {
     "name": "stdout",
     "output_type": "stream",
     "text": [
      "(4095, 784)\n",
      "(4095,)\n",
      "(1365, 784)\n",
      "(1365,)\n",
      "(1365, 784)\n",
      "(1365,)\n"
     ]
    }
   ],
   "source": [
    "print(x_train.shape)\n",
    "print(y_train.shape)\n",
    "print(x_test.shape)\n",
    "print(y_test.shape)\n",
    "print(x_valid.shape)\n",
    "print(y_valid.shape)"
   ]
  },
  {
   "cell_type": "code",
   "execution_count": 13,
   "metadata": {},
   "outputs": [
    {
     "data": {
      "text/plain": [
       "<matplotlib.image.AxesImage at 0x1cfcaadc390>"
      ]
     },
     "execution_count": 13,
     "metadata": {},
     "output_type": "execute_result"
    },
    {
     "data": {
      "image/png": "[encoded data removed]",
      "text/plain": [
       "<Figure size 640x480 with 1 Axes>"
      ]
     },
     "metadata": {},
     "output_type": "display_data"
    }
   ],
   "source": [
    "plt.imshow(np.array(x_train[6]).reshape(28,28))"
   ]
  },
  {
   "cell_type": "code",
   "execution_count": 14,
   "metadata": {},
   "outputs": [],
   "source": [
    "model = Sequential([\n",
    "    tf.keras.Input(shape=(784,)),\n",
    "    Dense(120,activation = 'relu'),\n",
    "    Dense(60,activation = 'relu'),\n",
    "    Dense(30,activation = 'relu'),\n",
    "    Dense(13,activation = 'softmax')\n",
    "])"
   ]
  },
  {
   "cell_type": "code",
   "execution_count": 15,
   "metadata": {},
   "outputs": [],
   "source": [
    "model.compile(loss ='sparse_categorical_crossentropy',optimizer='adam',metrics ='accuracy')"
   ]
  },
  {
   "cell_type": "code",
   "execution_count": 16,
   "metadata": {},
   "outputs": [
    {
     "name": "stdout",
     "output_type": "stream",
     "text": [
      "Epoch 1/10\n",
      "128/128 [==============================] - 1s 4ms/step - loss: 1.6214 - accuracy: 0.4979\n",
      "Epoch 2/10\n",
      "128/128 [==============================] - 0s 3ms/step - loss: 0.6554 - accuracy: 0.8005\n",
      "Epoch 3/10\n",
      "128/128 [==============================] - 0s 2ms/step - loss: 0.4960 - accuracy: 0.8437\n",
      "Epoch 4/10\n",
      "128/128 [==============================] - 0s 2ms/step - loss: 0.3793 - accuracy: 0.8816\n",
      "Epoch 5/10\n",
      "128/128 [==============================] - 0s 2ms/step - loss: 0.3102 - accuracy: 0.8989\n",
      "Epoch 6/10\n",
      "128/128 [==============================] - 0s 2ms/step - loss: 0.2627 - accuracy: 0.9167\n",
      "Epoch 7/10\n",
      "128/128 [==============================] - 0s 2ms/step - loss: 0.2523 - accuracy: 0.9153\n",
      "Epoch 8/10\n",
      "128/128 [==============================] - 0s 2ms/step - loss: 0.2147 - accuracy: 0.9324\n",
      "Epoch 9/10\n",
      "128/128 [==============================] - 0s 2ms/step - loss: 0.1902 - accuracy: 0.9346\n",
      "Epoch 10/10\n",
      "128/128 [==============================] - 0s 2ms/step - loss: 0.1669 - accuracy: 0.9468\n"
     ]
    },
    {
     "data": {
      "text/plain": [
       "<keras.src.callbacks.History at 0x1cfcd80a050>"
      ]
     },
     "execution_count": 16,
     "metadata": {},
     "output_type": "execute_result"
    }
   ],
   "source": [
    "model.fit(x_train,y_train ,epochs=10)"
   ]
  },
  {
   "cell_type": "code",
   "execution_count": 19,
   "metadata": {},
   "outputs": [
    {
     "name": "stdout",
     "output_type": "stream",
     "text": [
      "43/43 [==============================] - 0s 1ms/step\n"
     ]
    },
    {
     "data": {
      "text/plain": [
       "0.8732600732600733"
      ]
     },
     "execution_count": 19,
     "metadata": {},
     "output_type": "execute_result"
    }
   ],
   "source": [
    "test_prob = model.predict(x_test)\n",
    "prediction = test_prob.argmax(axis = 1)\n",
    "accuracy_score(y_test,prediction)\n"
   ]
  },
  {
   "cell_type": "code",
   "execution_count": null,
   "metadata": {},
   "outputs": [],
   "source": []
  }
 ],
 "metadata": {
  "kernelspec": {
   "display_name": "Python 3",
   "language": "python",
   "name": "python3"
  },
  "language_info": {
   "codemirror_mode": {
    "name": "ipython",
    "version": 3
   },
   "file_extension": ".py",
   "mimetype": "text/x-python",
   "name": "python",
   "nbconvert_exporter": "python",
   "pygments_lexer": "ipython3",
   "version": "3.11.4"
  }
 },
 "nbformat": 4,
 "nbformat_minor": 2
}
